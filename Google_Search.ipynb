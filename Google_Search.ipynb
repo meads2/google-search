{
 "cells": [
  {
   "attachments": {
    "google-header.png": {
     "image/png": "./google-header.png"
    }
   },
   "cell_type": "markdown",
   "metadata": {},
   "source": [
    "!['google-header.png'](attachment:google-header.png)\n",
    "\n",
    "## **Google Search Workbook**\n",
    "\n",
    "A notebook showcasing how to easily pull Google Search results from Python into easy to use JSON format. Use for exploration, programatic search, or downstream data analysis. The choice is yours!\n",
    "\n",
    "## **Getting Started**\n",
    "\n",
    "#### **1.Get API Key**\n",
    "First check out the following site to get your own Google [API key](https://developers.google.com/custom-search/v1/overview) to enable making requests to the search engine service.\n",
    "\n",
    "#### **2. Create a Search Engine**\n",
    "After you have an API key you will need to create a [custom search engine](https://developers.google.com/custom-search/docs/tutorial/creatingcse). Make sure **\"Search the entire web\"** is enabled in the control panel. If this is not set your search engine will not return any results.\n",
    "\n",
    "**Search Engine ID** Copy this value from the control panel you will need this value.\n",
    "\n",
    "#### **3.Set Env Variables**\n",
    "```bash\n",
    "export GOOGLE_API_KEY=YOUR_API_KEY\n",
    "export GOOGLE_SEARCH_ENGINE=SEARCH_ENGINE_ID\n",
    "export\n",
    "```\n",
    "\n",
    "#### **4.Search Google**\n",
    "```python\n",
    "# Create Google Client\n",
    "gc = GoogleSearch(api_key=GOOGLE_API_KEY, \n",
    "                  search_engine=GOOGLE_SEARCH_ENGINE)\n",
    "\n",
    "# Get Results\n",
    "results = gc.get_results(q='coffee near me')\n",
    "\n",
    "```\n"
   ]
  },
  {
   "cell_type": "code",
   "execution_count": 125,
   "metadata": {},
   "outputs": [],
   "source": [
    "import pandas as pd\n",
    "import numpy as np\n",
    "import requests\n",
    "from pathlib import Path\n",
    "import os\n",
    "import json\n",
    "import pprint as pp\n",
    "import uuid\n",
    "import dotenv\n",
    "from pprint import pprint\n",
    "from itertools import chain"
   ]
  },
  {
   "cell_type": "markdown",
   "metadata": {},
   "source": [
    "#### **Configuration**\n",
    "\n",
    "All Google API Documention can be refered to at the below there are dozens of parameters to further customize search functions **[Google API Reference](https://developers.google.com/custom-search/v1/introduction)**\n"
   ]
  },
  {
   "cell_type": "code",
   "execution_count": 60,
   "metadata": {},
   "outputs": [],
   "source": [
    "GOOGLE_API_KEY = os.getenv('GOOGLE_API_KEY')\n",
    "GOOGLE_SEARCH_ENGINE = os.getenv('GOOGLE_SEARCH_ENGINE')"
   ]
  },
  {
   "cell_type": "markdown",
   "metadata": {},
   "source": [
    "#### **Google Search Wrapper**\n",
    "Creates a wrapper around Google Search API functionality to provide easy to use access to core functionality from the API."
   ]
  },
  {
   "cell_type": "code",
   "execution_count": 128,
   "metadata": {},
   "outputs": [],
   "source": [
    "class GoogleSearch:\n",
    "    '''\n",
    "    Creates wrapper class around Google Custom API\n",
    "    that returns JSON response of search result items\n",
    "    \n",
    "    Params:\n",
    "    api_key - String of API key acquired from Google API \n",
    "    search_engine - String of custom engine (cx) identifier from console\n",
    "    '''\n",
    "    def __init__(self, api_key, search_engine):\n",
    "        self.api_key = api_key\n",
    "        self.engine = search_engine\n",
    "        self.api_url = 'https://www.googleapis.com/customsearch/v1?'\n",
    "        self.has_next = True\n",
    "        self.search_stats = None\n",
    "        self.search_terms = None\n",
    "        \n",
    "    def get_results(self, **kwargs):\n",
    "        '''\n",
    "        Gets the JSON search results meeting\n",
    "        search criteria\n",
    "        \n",
    "        Params:\n",
    "        kwargs - Any valid key/vlaue combination from Google API\n",
    "                 https://developers.google.com/custom-search/v1/reference/rest/v1/cse/list\n",
    "        \n",
    "        Returns:\n",
    "        res - JSON response of Google Search Items if any along with additional metadata keys\n",
    "        \n",
    "        '''\n",
    "        \n",
    "        params = {'key': self.api_key,\n",
    "                  'cx': self.engine,\n",
    "                  'start': 1}\n",
    "        \n",
    "        for key, value in kwargs.items():\n",
    "            params[key] = value\n",
    "        \n",
    "        results = []\n",
    "        \n",
    "        while self.has_next == True:\n",
    "            res = requests.get(self.api_url, params=params)\n",
    "            res = res.json()\n",
    "            \n",
    "            # Get results from search\n",
    "            try:\n",
    "                search_results = res['items']\n",
    "                results.append(search_results)\n",
    "            except:\n",
    "                pass\n",
    "            \n",
    "            if params['start'] == 1:\n",
    "                self.search_stats = res['searchInformation']\n",
    "                self.search_terms = res['queries']['request'][0]\n",
    "            try:\n",
    "                params['start'] = res['queries']['nextPage'][0]['startIndex']\n",
    "            except:\n",
    "                self.has_next = False\n",
    "        \n",
    "        return list(chain(*results))"
   ]
  },
  {
   "cell_type": "markdown",
   "metadata": {},
   "source": [
    "#### **Create Google Client**"
   ]
  },
  {
   "cell_type": "code",
   "execution_count": 163,
   "metadata": {},
   "outputs": [],
   "source": [
    "# Create Google Client\n",
    "gc = GoogleSearch(api_key=GOOGLE_API_KEY, search_engine=GOOGLE_SEARCH_ENGINE)"
   ]
  },
  {
   "cell_type": "markdown",
   "metadata": {},
   "source": [
    "#### **Search Results**"
   ]
  },
  {
   "cell_type": "code",
   "execution_count": 164,
   "metadata": {},
   "outputs": [],
   "source": [
    "search_results = gc.get_results(q='Covid-19 Cures')"
   ]
  },
  {
   "cell_type": "code",
   "execution_count": 165,
   "metadata": {},
   "outputs": [
    {
     "name": "stdout",
     "output_type": "stream",
     "text": [
      "100 Google Results Returned...\n"
     ]
    }
   ],
   "source": [
    "print(f'{len(search_results)} Google Results Returned...')"
   ]
  },
  {
   "cell_type": "code",
   "execution_count": 166,
   "metadata": {},
   "outputs": [
    {
     "name": "stdout",
     "output_type": "stream",
     "text": [
      "{'searchTime': 0.561918, 'formattedSearchTime': '0.56', 'totalResults': '251000000', 'formattedTotalResults': '251,000,000'}\n",
      "{'title': 'Google Custom Search - Covid-19 Cures', 'totalResults': '251000000', 'searchTerms': 'Covid-19 Cures', 'count': 10, 'startIndex': 1, 'inputEncoding': 'utf8', 'outputEncoding': 'utf8', 'safe': 'off', 'cx': '007553850390062762624:iio37zxu5e3'}\n"
     ]
    }
   ],
   "source": [
    "search_stats = gc.search_stats\n",
    "search_terms = gc.search_terms\n",
    "print(search_stats)\n",
    "print(search_terms)"
   ]
  },
  {
   "cell_type": "markdown",
   "metadata": {},
   "source": [
    "#### **Data Cleanup**\n",
    "##### **Search Results Dataframe**"
   ]
  },
  {
   "cell_type": "code",
   "execution_count": 167,
   "metadata": {},
   "outputs": [
    {
     "data": {
      "text/html": [
       "<div>\n",
       "<style scoped>\n",
       "    .dataframe tbody tr th:only-of-type {\n",
       "        vertical-align: middle;\n",
       "    }\n",
       "\n",
       "    .dataframe tbody tr th {\n",
       "        vertical-align: top;\n",
       "    }\n",
       "\n",
       "    .dataframe thead th {\n",
       "        text-align: right;\n",
       "    }\n",
       "</style>\n",
       "<table border=\"1\" class=\"dataframe\">\n",
       "  <thead>\n",
       "    <tr style=\"text-align: right;\">\n",
       "      <th></th>\n",
       "      <th>title</th>\n",
       "      <th>link</th>\n",
       "      <th>displayLink</th>\n",
       "      <th>snippet</th>\n",
       "      <th>cacheId</th>\n",
       "      <th>formattedUrl</th>\n",
       "      <th>pagemap</th>\n",
       "      <th>mime</th>\n",
       "      <th>fileFormat</th>\n",
       "    </tr>\n",
       "  </thead>\n",
       "  <tbody>\n",
       "    <tr>\n",
       "      <th>0</th>\n",
       "      <td>Where We're at with Vaccines and Treatments fo...</td>\n",
       "      <td>https://www.healthline.com/health-news/heres-e...</td>\n",
       "      <td>www.healthline.com</td>\n",
       "      <td>2 days ago ... They say the drug could potenti...</td>\n",
       "      <td>3ipdFSvg4JEJ</td>\n",
       "      <td>https://www.healthline.com/.../heres-exactly-w...</td>\n",
       "      <td>{'cse_thumbnail': [{'src': 'https://encrypted-...</td>\n",
       "      <td>NaN</td>\n",
       "      <td>NaN</td>\n",
       "    </tr>\n",
       "    <tr>\n",
       "      <th>1</th>\n",
       "      <td>COVID-19: New drug candidates, treatments offe...</td>\n",
       "      <td>https://www.medicalnewstoday.com/articles/covi...</td>\n",
       "      <td>www.medicalnewstoday.com</td>\n",
       "      <td>May 15, 2020 ... We review the latest evidence...</td>\n",
       "      <td>BAPywsS2JukJ</td>\n",
       "      <td>https://www.medicalnewstoday.com/.../covid-19-...</td>\n",
       "      <td>{'cse_thumbnail': [{'src': 'https://encrypted-...</td>\n",
       "      <td>NaN</td>\n",
       "      <td>NaN</td>\n",
       "    </tr>\n",
       "    <tr>\n",
       "      <th>2</th>\n",
       "      <td>Treatments for COVID-19 - Harvard Health</td>\n",
       "      <td>https://www.health.harvard.edu/diseases-and-co...</td>\n",
       "      <td>www.health.harvard.edu</td>\n",
       "      <td>Mar 24, 2020 ... Currently there is no specifi...</td>\n",
       "      <td>RTid9N4wCZ8J</td>\n",
       "      <td>https://www.health.harvard.edu/diseases-and......</td>\n",
       "      <td>{'cse_thumbnail': [{'src': 'https://encrypted-...</td>\n",
       "      <td>NaN</td>\n",
       "      <td>NaN</td>\n",
       "    </tr>\n",
       "    <tr>\n",
       "      <th>3</th>\n",
       "      <td>Coronavirus (COVID-19) Update: FDA Issues Emer...</td>\n",
       "      <td>https://www.fda.gov/news-events/press-announce...</td>\n",
       "      <td>www.fda.gov</td>\n",
       "      <td>May 1, 2020 ... FDA has issued emergency use a...</td>\n",
       "      <td>xd0ZL6Cuef8J</td>\n",
       "      <td>https://www.fda.gov/.../coronavirus-covid-19-u...</td>\n",
       "      <td>{'cse_thumbnail': [{'src': 'https://encrypted-...</td>\n",
       "      <td>NaN</td>\n",
       "      <td>NaN</td>\n",
       "    </tr>\n",
       "    <tr>\n",
       "      <th>4</th>\n",
       "      <td>Gilead data suggests coronavirus patients are ...</td>\n",
       "      <td>https://www.statnews.com/2020/04/16/early-peek...</td>\n",
       "      <td>www.statnews.com</td>\n",
       "      <td>Apr 16, 2020 ... A Chicago hospital treating s...</td>\n",
       "      <td>4Pnz6T5fVJYJ</td>\n",
       "      <td>https://www.statnews.com/.../early-peek-at-dat...</td>\n",
       "      <td>{'hcard': [{'fn': 'Kathleen', 'nickname': 'Kat...</td>\n",
       "      <td>NaN</td>\n",
       "      <td>NaN</td>\n",
       "    </tr>\n",
       "  </tbody>\n",
       "</table>\n",
       "</div>"
      ],
      "text/plain": [
       "                                               title  \\\n",
       "0  Where We're at with Vaccines and Treatments fo...   \n",
       "1  COVID-19: New drug candidates, treatments offe...   \n",
       "2           Treatments for COVID-19 - Harvard Health   \n",
       "3  Coronavirus (COVID-19) Update: FDA Issues Emer...   \n",
       "4  Gilead data suggests coronavirus patients are ...   \n",
       "\n",
       "                                                link  \\\n",
       "0  https://www.healthline.com/health-news/heres-e...   \n",
       "1  https://www.medicalnewstoday.com/articles/covi...   \n",
       "2  https://www.health.harvard.edu/diseases-and-co...   \n",
       "3  https://www.fda.gov/news-events/press-announce...   \n",
       "4  https://www.statnews.com/2020/04/16/early-peek...   \n",
       "\n",
       "                displayLink  \\\n",
       "0        www.healthline.com   \n",
       "1  www.medicalnewstoday.com   \n",
       "2    www.health.harvard.edu   \n",
       "3               www.fda.gov   \n",
       "4          www.statnews.com   \n",
       "\n",
       "                                             snippet       cacheId  \\\n",
       "0  2 days ago ... They say the drug could potenti...  3ipdFSvg4JEJ   \n",
       "1  May 15, 2020 ... We review the latest evidence...  BAPywsS2JukJ   \n",
       "2  Mar 24, 2020 ... Currently there is no specifi...  RTid9N4wCZ8J   \n",
       "3  May 1, 2020 ... FDA has issued emergency use a...  xd0ZL6Cuef8J   \n",
       "4  Apr 16, 2020 ... A Chicago hospital treating s...  4Pnz6T5fVJYJ   \n",
       "\n",
       "                                        formattedUrl  \\\n",
       "0  https://www.healthline.com/.../heres-exactly-w...   \n",
       "1  https://www.medicalnewstoday.com/.../covid-19-...   \n",
       "2  https://www.health.harvard.edu/diseases-and......   \n",
       "3  https://www.fda.gov/.../coronavirus-covid-19-u...   \n",
       "4  https://www.statnews.com/.../early-peek-at-dat...   \n",
       "\n",
       "                                             pagemap mime fileFormat  \n",
       "0  {'cse_thumbnail': [{'src': 'https://encrypted-...  NaN        NaN  \n",
       "1  {'cse_thumbnail': [{'src': 'https://encrypted-...  NaN        NaN  \n",
       "2  {'cse_thumbnail': [{'src': 'https://encrypted-...  NaN        NaN  \n",
       "3  {'cse_thumbnail': [{'src': 'https://encrypted-...  NaN        NaN  \n",
       "4  {'hcard': [{'fn': 'Kathleen', 'nickname': 'Kat...  NaN        NaN  "
      ]
     },
     "execution_count": 167,
     "metadata": {},
     "output_type": "execute_result"
    }
   ],
   "source": [
    "search_df = pd.DataFrame(search_results)\n",
    "search_df.drop(columns=['kind', 'htmlTitle', 'htmlSnippet', 'htmlFormattedUrl'], inplace=True)\n",
    "search_df.head()"
   ]
  },
  {
   "cell_type": "markdown",
   "metadata": {},
   "source": [
    "#### **Search Term Data Frame**"
   ]
  },
  {
   "cell_type": "code",
   "execution_count": 168,
   "metadata": {},
   "outputs": [
    {
     "data": {
      "text/html": [
       "<div>\n",
       "<style scoped>\n",
       "    .dataframe tbody tr th:only-of-type {\n",
       "        vertical-align: middle;\n",
       "    }\n",
       "\n",
       "    .dataframe tbody tr th {\n",
       "        vertical-align: top;\n",
       "    }\n",
       "\n",
       "    .dataframe thead th {\n",
       "        text-align: right;\n",
       "    }\n",
       "</style>\n",
       "<table border=\"1\" class=\"dataframe\">\n",
       "  <thead>\n",
       "    <tr style=\"text-align: right;\">\n",
       "      <th></th>\n",
       "      <th>title</th>\n",
       "      <th>totalResults</th>\n",
       "      <th>searchTerms</th>\n",
       "    </tr>\n",
       "  </thead>\n",
       "  <tbody>\n",
       "    <tr>\n",
       "      <th>0</th>\n",
       "      <td>Google Custom Search - Covid-19 Cures</td>\n",
       "      <td>251000000</td>\n",
       "      <td>Covid-19 Cures</td>\n",
       "    </tr>\n",
       "  </tbody>\n",
       "</table>\n",
       "</div>"
      ],
      "text/plain": [
       "                                   title totalResults     searchTerms\n",
       "0  Google Custom Search - Covid-19 Cures    251000000  Covid-19 Cures"
      ]
     },
     "execution_count": 168,
     "metadata": {},
     "output_type": "execute_result"
    }
   ],
   "source": [
    "search_terms_df = pd.DataFrame(search_terms, index=[0])\n",
    "search_terms_df.drop(columns=['count', 'startIndex', 'inputEncoding', 'outputEncoding','safe', 'cx'], inplace=True)\n",
    "search_terms_df.head()"
   ]
  }
 ],
 "metadata": {
  "kernelspec": {
   "display_name": "dev",
   "language": "python",
   "name": "dev"
  },
  "language_info": {
   "codemirror_mode": {
    "name": "ipython",
    "version": 3
   },
   "file_extension": ".py",
   "mimetype": "text/x-python",
   "name": "python",
   "nbconvert_exporter": "python",
   "pygments_lexer": "ipython3",
   "version": "3.7.6"
  }
 },
 "nbformat": 4,
 "nbformat_minor": 4
}
