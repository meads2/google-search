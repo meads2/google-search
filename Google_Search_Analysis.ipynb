{
 "cells": [
  {
   "cell_type": "markdown",
   "metadata": {},
   "source": [
    "![image](google-header.png)\n",
    "\n",
    "## **Google Search Analysis**\n",
    "\n",
    "So in the previous workbook we explored getting the data from Google. Awesome! Lets take a step further and see if we can sift through those results and find the outliers.\n",
    "\n",
    "## **Overview**\n",
    "The following cells will do some data exploration, basic cleanup, some feature engineering, and then clustering and text analysis."
   ]
  },
  {
   "cell_type": "code",
   "execution_count": 8,
   "metadata": {},
   "outputs": [],
   "source": [
    "import pandas as pd\n",
    "import numpy as np\n",
    "from pathlib import Path\n",
    "import seaborn as sns\n",
    "\n",
    "RAW_DATA = 'data'"
   ]
  },
  {
   "cell_type": "markdown",
   "metadata": {},
   "source": [
    "#### **Import Data**"
   ]
  },
  {
   "cell_type": "code",
   "execution_count": 7,
   "metadata": {},
   "outputs": [
    {
     "data": {
      "text/html": [
       "<div>\n",
       "<style scoped>\n",
       "    .dataframe tbody tr th:only-of-type {\n",
       "        vertical-align: middle;\n",
       "    }\n",
       "\n",
       "    .dataframe tbody tr th {\n",
       "        vertical-align: top;\n",
       "    }\n",
       "\n",
       "    .dataframe thead th {\n",
       "        text-align: right;\n",
       "    }\n",
       "</style>\n",
       "<table border=\"1\" class=\"dataframe\">\n",
       "  <thead>\n",
       "    <tr style=\"text-align: right;\">\n",
       "      <th></th>\n",
       "      <th>title</th>\n",
       "      <th>link</th>\n",
       "      <th>displayLink</th>\n",
       "      <th>snippet</th>\n",
       "      <th>cacheId</th>\n",
       "      <th>formattedUrl</th>\n",
       "      <th>pagemap</th>\n",
       "    </tr>\n",
       "  </thead>\n",
       "  <tbody>\n",
       "    <tr>\n",
       "      <th>0</th>\n",
       "      <td>Where We're at with Vaccines and Treatments fo...</td>\n",
       "      <td>https://www.healthline.com/health-news/heres-e...</td>\n",
       "      <td>www.healthline.com</td>\n",
       "      <td>3 days ago ... Scientists around the world are...</td>\n",
       "      <td>3ipdFSvg4JEJ</td>\n",
       "      <td>https://www.healthline.com/.../heres-exactly-w...</td>\n",
       "      <td>{'cse_thumbnail': [{'src': 'https://encrypted-...</td>\n",
       "    </tr>\n",
       "    <tr>\n",
       "      <th>1</th>\n",
       "      <td>Pfizer: COVID-19 Vaccine Could Arrive in October</td>\n",
       "      <td>https://www.webmd.com/lung/news/20200515/pfize...</td>\n",
       "      <td>www.webmd.com</td>\n",
       "      <td>May 15, 2020 ... Pharmaceutical company Pfizer...</td>\n",
       "      <td>x2ZnEeIQudkJ</td>\n",
       "      <td>https://www.webmd.com/.../pfizer-says-covid-19...</td>\n",
       "      <td>{'cse_thumbnail': [{'src': 'https://encrypted-...</td>\n",
       "    </tr>\n",
       "    <tr>\n",
       "      <th>2</th>\n",
       "      <td>What you need to know about the COVID-19 vacci...</td>\n",
       "      <td>https://www.gatesnotes.com/Health/What-you-nee...</td>\n",
       "      <td>www.gatesnotes.com</td>\n",
       "      <td>Apr 30, 2020 ... How do you store it? Many com...</td>\n",
       "      <td>NaN</td>\n",
       "      <td>https://www.gatesnotes.com/.../What-you-need-t...</td>\n",
       "      <td>{'cse_thumbnail': [{'src': 'https://encrypted-...</td>\n",
       "    </tr>\n",
       "    <tr>\n",
       "      <th>3</th>\n",
       "      <td>COVID-19 vaccine tracker | RAPS</td>\n",
       "      <td>https://www.raps.org/news-and-articles/news-ar...</td>\n",
       "      <td>www.raps.org</td>\n",
       "      <td>This tracker lists COVID-19 vaccine candidates...</td>\n",
       "      <td>sB1XCTgmPtsJ</td>\n",
       "      <td>https://www.raps.org/news-and-articles/news......</td>\n",
       "      <td>{'cse_thumbnail': [{'src': 'https://encrypted-...</td>\n",
       "    </tr>\n",
       "    <tr>\n",
       "      <th>4</th>\n",
       "      <td>Trump unveils audacious plan to develop Covid-...</td>\n",
       "      <td>https://www.statnews.com/2020/05/15/trump-auda...</td>\n",
       "      <td>www.statnews.com</td>\n",
       "      <td>May 15, 2020 ... Trump administration outlines...</td>\n",
       "      <td>lGEf1Nfgz0oJ</td>\n",
       "      <td>https://www.statnews.com/2020/05/.../trump-aud...</td>\n",
       "      <td>{'hcard': [{'fn': 'Dan', 'nickname': 'Dan'}, {...</td>\n",
       "    </tr>\n",
       "  </tbody>\n",
       "</table>\n",
       "</div>"
      ],
      "text/plain": [
       "                                               title  \\\n",
       "0  Where We're at with Vaccines and Treatments fo...   \n",
       "1   Pfizer: COVID-19 Vaccine Could Arrive in October   \n",
       "2  What you need to know about the COVID-19 vacci...   \n",
       "3                    COVID-19 vaccine tracker | RAPS   \n",
       "4  Trump unveils audacious plan to develop Covid-...   \n",
       "\n",
       "                                                link         displayLink  \\\n",
       "0  https://www.healthline.com/health-news/heres-e...  www.healthline.com   \n",
       "1  https://www.webmd.com/lung/news/20200515/pfize...       www.webmd.com   \n",
       "2  https://www.gatesnotes.com/Health/What-you-nee...  www.gatesnotes.com   \n",
       "3  https://www.raps.org/news-and-articles/news-ar...        www.raps.org   \n",
       "4  https://www.statnews.com/2020/05/15/trump-auda...    www.statnews.com   \n",
       "\n",
       "                                             snippet       cacheId  \\\n",
       "0  3 days ago ... Scientists around the world are...  3ipdFSvg4JEJ   \n",
       "1  May 15, 2020 ... Pharmaceutical company Pfizer...  x2ZnEeIQudkJ   \n",
       "2  Apr 30, 2020 ... How do you store it? Many com...           NaN   \n",
       "3  This tracker lists COVID-19 vaccine candidates...  sB1XCTgmPtsJ   \n",
       "4  May 15, 2020 ... Trump administration outlines...  lGEf1Nfgz0oJ   \n",
       "\n",
       "                                        formattedUrl  \\\n",
       "0  https://www.healthline.com/.../heres-exactly-w...   \n",
       "1  https://www.webmd.com/.../pfizer-says-covid-19...   \n",
       "2  https://www.gatesnotes.com/.../What-you-need-t...   \n",
       "3  https://www.raps.org/news-and-articles/news......   \n",
       "4  https://www.statnews.com/2020/05/.../trump-aud...   \n",
       "\n",
       "                                             pagemap  \n",
       "0  {'cse_thumbnail': [{'src': 'https://encrypted-...  \n",
       "1  {'cse_thumbnail': [{'src': 'https://encrypted-...  \n",
       "2  {'cse_thumbnail': [{'src': 'https://encrypted-...  \n",
       "3  {'cse_thumbnail': [{'src': 'https://encrypted-...  \n",
       "4  {'hcard': [{'fn': 'Dan', 'nickname': 'Dan'}, {...  "
      ]
     },
     "execution_count": 7,
     "metadata": {},
     "output_type": "execute_result"
    }
   ],
   "source": [
    "search_results = pd.read_csv(Path(RAW_DATA).joinpath('search_results.csv'), delimiter='\\t')\n",
    "search_results.head()"
   ]
  },
  {
   "cell_type": "code",
   "execution_count": 9,
   "metadata": {},
   "outputs": [
    {
     "data": {
      "text/html": [
       "<div>\n",
       "<style scoped>\n",
       "    .dataframe tbody tr th:only-of-type {\n",
       "        vertical-align: middle;\n",
       "    }\n",
       "\n",
       "    .dataframe tbody tr th {\n",
       "        vertical-align: top;\n",
       "    }\n",
       "\n",
       "    .dataframe thead th {\n",
       "        text-align: right;\n",
       "    }\n",
       "</style>\n",
       "<table border=\"1\" class=\"dataframe\">\n",
       "  <thead>\n",
       "    <tr style=\"text-align: right;\">\n",
       "      <th></th>\n",
       "      <th>title</th>\n",
       "      <th>totalResults</th>\n",
       "      <th>searchTerms</th>\n",
       "    </tr>\n",
       "  </thead>\n",
       "  <tbody>\n",
       "    <tr>\n",
       "      <th>0</th>\n",
       "      <td>Google Custom Search - covid-19 vaccines</td>\n",
       "      <td>163000000</td>\n",
       "      <td>covid-19 vaccines</td>\n",
       "    </tr>\n",
       "  </tbody>\n",
       "</table>\n",
       "</div>"
      ],
      "text/plain": [
       "                                      title  totalResults        searchTerms\n",
       "0  Google Custom Search - covid-19 vaccines     163000000  covid-19 vaccines"
      ]
     },
     "execution_count": 9,
     "metadata": {},
     "output_type": "execute_result"
    }
   ],
   "source": [
    "search_terms = pd.read_csv(Path(RAW_DATA).joinpath('search_terms.csv'),delimiter='\\t')\n",
    "search_terms.head()"
   ]
  },
  {
   "cell_type": "code",
   "execution_count": null,
   "metadata": {},
   "outputs": [],
   "source": []
  },
  {
   "cell_type": "code",
   "execution_count": null,
   "metadata": {},
   "outputs": [],
   "source": []
  }
 ],
 "metadata": {
  "kernelspec": {
   "display_name": "dev",
   "language": "python",
   "name": "dev"
  },
  "language_info": {
   "codemirror_mode": {
    "name": "ipython",
    "version": 3
   },
   "file_extension": ".py",
   "mimetype": "text/x-python",
   "name": "python",
   "nbconvert_exporter": "python",
   "pygments_lexer": "ipython3",
   "version": "3.7.6"
  }
 },
 "nbformat": 4,
 "nbformat_minor": 4
}
